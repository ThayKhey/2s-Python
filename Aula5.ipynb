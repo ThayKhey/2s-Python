{
  "nbformat": 4,
  "nbformat_minor": 0,
  "metadata": {
    "colab": {
      "provenance": []
    },
    "kernelspec": {
      "name": "python3",
      "display_name": "Python 3"
    },
    "language_info": {
      "name": "python"
    }
  },
  "cells": [
    {
      "cell_type": "code",
      "execution_count": null,
      "metadata": {
        "id": "47hnkaQhAnDg"
      },
      "outputs": [],
      "source": [
        "\"\"\" Estruturas de entrada e saída (input/print);\n",
        "\"\"\" Estrutras de condição (if/elif/else);\n",
        "\"\"\" Estrutura de repetição (for/while)\n",
        "\"\"\" Estruturas com listas (numéricas e não numéricas)\n",
        "\"\"\" Estruturas com tuplas\n",
        "\"\"\" Estruturas com funções (def e lambda)\n",
        "\"\"\" Estruturas com dataframe"
      ]
    },
    {
      "cell_type": "code",
      "source": [
        "# Ex.1\n",
        "\n",
        "lista_num = []\n",
        "\n",
        "for i in range(5):\n",
        "  entrada = float(input('Digite um número'))\n",
        "  lista_num.append(entrada)\n",
        "  print(lista_num)"
      ],
      "metadata": {
        "colab": {
          "base_uri": "https://localhost:8080/"
        },
        "id": "xa26ME9rBKmV",
        "outputId": "552832fe-9e42-45e9-b6b9-325d5a8ee1ed"
      },
      "execution_count": 1,
      "outputs": [
        {
          "output_type": "stream",
          "name": "stdout",
          "text": [
            "Digite um número10\n",
            "[10.0]\n",
            "Digite um número0\n",
            "[10.0, 0.0]\n",
            "Digite um número20\n",
            "[10.0, 0.0, 20.0]\n",
            "Digite um número30\n",
            "[10.0, 0.0, 20.0, 30.0]\n",
            "Digite um número40\n",
            "[10.0, 0.0, 20.0, 30.0, 40.0]\n"
          ]
        }
      ]
    },
    {
      "cell_type": "code",
      "source": [
        "# Ex.2\n",
        "\n",
        "soma = 0\n",
        "\n",
        "for k in lista_num:\n",
        "  soma += k\n",
        "\n",
        "media = soma / len(lista_num)\n",
        "print(media)"
      ],
      "metadata": {
        "colab": {
          "base_uri": "https://localhost:8080/"
        },
        "id": "_1K9c2q9BtxV",
        "outputId": "d9e84b39-b904-44dc-fccd-eb6ac4e58f5f"
      },
      "execution_count": 5,
      "outputs": [
        {
          "output_type": "stream",
          "name": "stdout",
          "text": [
            "[10.0, 0.0, 20.0, 30.0, 40.0]\n",
            "20.0\n"
          ]
        }
      ]
    },
    {
      "cell_type": "code",
      "source": [
        "# Ex. 3\n",
        "\n",
        "for k in range(1, 5):\n",
        "  for i in range(1, 5):\n",
        "    print(k * i)"
      ],
      "metadata": {
        "colab": {
          "base_uri": "https://localhost:8080/"
        },
        "id": "afEAArajCPzm",
        "outputId": "a002f39f-e44f-4631-d2f6-835a0bf3a74a"
      },
      "execution_count": 6,
      "outputs": [
        {
          "output_type": "stream",
          "name": "stdout",
          "text": [
            "1\n",
            "2\n",
            "3\n",
            "4\n",
            "2\n",
            "4\n",
            "6\n",
            "8\n",
            "3\n",
            "6\n",
            "9\n",
            "12\n",
            "4\n",
            "8\n",
            "12\n",
            "16\n"
          ]
        }
      ]
    },
    {
      "cell_type": "code",
      "source": [
        "# Ex.4\n",
        "\n",
        "lista_carros = ['volvo', 'bwm', 'chevrolet', 'byd']\n",
        "\n",
        "for i in lista_carros:\n",
        "  if i == 'chevrolet':\n",
        "    print(i)\n",
        "    break\n",
        "  else:\n",
        "    print(\"Não encontrado\")"
      ],
      "metadata": {
        "colab": {
          "base_uri": "https://localhost:8080/"
        },
        "id": "u75fGfDACoCv",
        "outputId": "eb5dd1b6-abce-4c28-a7c9-3ddf0313a6a8"
      },
      "execution_count": 7,
      "outputs": [
        {
          "output_type": "stream",
          "name": "stdout",
          "text": [
            "Não encontrado\n",
            "Não encontrado\n",
            "chevrolet\n"
          ]
        }
      ]
    },
    {
      "cell_type": "code",
      "source": [
        "# Ex.5\n",
        "\n",
        "lista_marca = []\n",
        "lista_carros = []\n",
        "\n",
        "for i in range(1, 6):\n",
        "  marca = input('Digite a marca do carro')\n",
        "  lista_marca.append(marca)\n",
        "  print(lista_marca)\n",
        "\n",
        "for k in range(1, 6):\n",
        "  carro = input(\"Digite o nome do carro\")\n",
        "  lista_carros.append(carro)\n",
        "  print(lista_carros)\n",
        "\n",
        "for i in range(len(lista_marca)):\n",
        "  for k in range(len(lista_carros)):\n",
        "    if i == k:\n",
        "      print(f'{lista_marca[i]} {lista_carros[k]}')"
      ],
      "metadata": {
        "colab": {
          "base_uri": "https://localhost:8080/"
        },
        "id": "GIMiV_R_IzCq",
        "outputId": "2d6093ae-04cf-4db6-dd3f-bf80fa73d6c6"
      },
      "execution_count": 8,
      "outputs": [
        {
          "output_type": "stream",
          "name": "stdout",
          "text": [
            "Digite a marca do carrovolks\n",
            "['volks']\n",
            "Digite a marca do carrofiat\n",
            "['volks', 'fiat']\n",
            "Digite a marca do carrotoyota\n",
            "['volks', 'fiat', 'toyota']\n",
            "Digite a marca do carrochevrolet\n",
            "['volks', 'fiat', 'toyota', 'chevrolet']\n",
            "Digite a marca do carroford\n",
            "['volks', 'fiat', 'toyota', 'chevrolet', 'ford']\n",
            "Digite o nome do carrogol\n",
            "['gol']\n",
            "Digite o nome do carrouno\n",
            "['gol', 'uno']\n",
            "Digite o nome do carrocorolla\n",
            "['gol', 'uno', 'corolla']\n",
            "Digite o nome do carrocruze\n",
            "['gol', 'uno', 'corolla', 'cruze']\n",
            "Digite o nome do carrofiesta\n",
            "['gol', 'uno', 'corolla', 'cruze', 'fiesta']\n"
          ]
        }
      ]
    },
    {
      "cell_type": "code",
      "source": [
        "# Ex.6\n",
        "\n",
        "lista_marca = []\n",
        "lista_carros = []\n",
        "\n",
        "for i in range(1, 6):\n",
        "  marca = input('Digite a marca do carro')\n",
        "  carro = input(\"Digite o nome do carro\")\n",
        "  lista_marca.append(marca)\n",
        "  lista_carros.append(carro)\n",
        "\n",
        "for i in range(len(lista_marca)):\n",
        "  for k in range(len(lista_carros)):\n",
        "    if i == k:\n",
        "      print(f'{lista_marca[i]} {lista_carros[k]}')"
      ],
      "metadata": {
        "colab": {
          "base_uri": "https://localhost:8080/"
        },
        "id": "pujubNfHKVXJ",
        "outputId": "8a841502-d714-44c4-bba2-a51b9ae62469"
      },
      "execution_count": 13,
      "outputs": [
        {
          "output_type": "stream",
          "name": "stdout",
          "text": [
            "Digite a marca do carrovolvo\n",
            "Digite o nome do carrofia\n",
            "Digite a marca do carrovolks\n",
            "Digite o nome do carroford\n",
            "Digite a marca do carrobwm\n",
            "Digite o nome do carrovolvo1\n",
            "Digite a marca do carrouno\n",
            "Digite o nome do carrogol\n",
            "Digite a marca do carrofiesta\n",
            "Digite o nome do carrobmw\n",
            "volvo fia\n",
            "volks ford\n",
            "bwm volvo1\n",
            "uno gol\n",
            "fiesta bmw\n"
          ]
        }
      ]
    },
    {
      "cell_type": "code",
      "source": [
        "# Ex.7\n",
        "\n",
        "lista_times = []\n",
        "lista_masters = []\n",
        "lista_secundarios = []\n",
        "\n",
        "for i in range(1, 6):\n",
        "  time = input('Digite o time')\n",
        "  master = input(\"Digite o patrocinador master\")\n",
        "  secundario = input(\"Digite o patrocinador secundário\")\n",
        "\n",
        "  lista_times.append(time)\n",
        "  lista_masters.append(master)\n",
        "  lista_secundarios.append(secundario)\n",
        "\n",
        "for i in range(len(lista_times)):\n",
        "  for k in range(len(lista_masters)):\n",
        "    for j in range(len(lista_secundarios)):\n",
        "      if i == k == j:\n",
        "        print(f'{lista_times[i]} {lista_masters[k]} {lista_secundarios[j]}')"
      ],
      "metadata": {
        "colab": {
          "base_uri": "https://localhost:8080/"
        },
        "id": "fRcPBDQtPgYv",
        "outputId": "e85f7a74-7385-42ad-c4b7-e17ce209f398"
      },
      "execution_count": 14,
      "outputs": [
        {
          "name": "stdout",
          "output_type": "stream",
          "text": [
            "Digite o timereal madrid\n",
            "Digite o patrocinador masterfly emirates\n",
            "Digite o patrocinador secundárioHP\n",
            "Digite o timecorinthians\n",
            "Digite o patrocinador mastersport da sorte\n",
            "Digite o patrocinador secundárioezz seguros\n",
            "Digite o timepalmeiras\n",
            "Digite o patrocinador mastercrefisa\n",
            "Digite o patrocinador secundáriofam\n",
            "Digite o timeflamengo\n",
            "Digite o patrocinador masterbanco BRB\n",
            "Digite o patrocinador secundáriofuturo vip\n",
            "Digite o timebarcelona\n",
            "Digite o patrocinador masterspotify\n",
            "Digite o patrocinador secundárionike\n"
          ]
        }
      ]
    },
    {
      "cell_type": "code",
      "source": [
        "print(lista_times)\n",
        "print(lista_masters)\n",
        "print(lista_secundarios)\n",
        "\n",
        "for i in range(len(lista_times)):\n",
        "  for k in range(len(lista_masters)):\n",
        "    for j in range(len(lista_secundarios)):\n",
        "      if i == k == j:\n",
        "        print(f'{lista_times[i]} {lista_masters[k]} {lista_secundarios[j]}')"
      ],
      "metadata": {
        "colab": {
          "base_uri": "https://localhost:8080/"
        },
        "id": "waTKsJ2uQ1Oa",
        "outputId": "5fb25d3b-f053-4000-e560-1d73ca8e4fa0"
      },
      "execution_count": 15,
      "outputs": [
        {
          "output_type": "stream",
          "name": "stdout",
          "text": [
            "['real madrid', 'corinthians', 'palmeiras', 'flamengo', 'barcelona']\n",
            "['fly emirates', 'sport da sorte', 'crefisa', 'banco BRB', 'spotify']\n",
            "['HP', 'ezz seguros', 'fam', 'futuro vip', 'nike']\n"
          ]
        }
      ]
    },
    {
      "cell_type": "code",
      "source": [
        "class Pessoa:\n",
        "   def __init__(self, nome, idade, cpf, rg):\n",
        "      self.nome = nome\n",
        "      self.idade = idade\n",
        "      self.cpf = cpf\n",
        "      self.rg = rg\n",
        "\n",
        "p1 = Pessoa('Maria', 35, 11122233344, 2288811163)\n",
        "\n",
        "print(p1.nome)\n",
        "print(p1.idade)\n",
        "print(p1.cpf)\n",
        "print(p1.rg)"
      ],
      "metadata": {
        "colab": {
          "base_uri": "https://localhost:8080/"
        },
        "id": "pOgLgJo4XyQr",
        "outputId": "ab24fb80-98df-437d-fb6c-b37d6ab38005"
      },
      "execution_count": 19,
      "outputs": [
        {
          "output_type": "stream",
          "name": "stdout",
          "text": [
            "Maria\n",
            "35\n",
            "11122233344\n",
            "2288811163\n"
          ]
        }
      ]
    },
    {
      "cell_type": "code",
      "source": [
        "class marca_carros:\n",
        "   def __init__(self, marca, modelo, cor, cambio, direcao):\n",
        "     self.marca = marca\n",
        "     self.modelo = modelo\n",
        "     self.cor = cor\n",
        "     self.cambio = cambio\n",
        "     self.direcao = direcao\n",
        "\n",
        "teste1 = marca_carros('chevrolet', 'onix','cinza', 'automatico', 'eletrica')\n",
        "teste2 = marca_carros('fiat', 'uno','branca', 'manual', 'hidraulica')\n",
        "\n",
        "print(teste1.marca)\n",
        "print(teste1.modelo)\n",
        "print(teste1.cor)\n",
        "print(teste1.cambio)\n",
        "print(teste1.direcao)\n",
        "\n",
        "lista_atributos1 = [teste1.marca, teste1.modelo, teste1.cor, teste1.cambio, teste1.direcao]\n",
        "lista_atributos2 = [teste2.marca, teste2.modelo, teste2.cor, teste2.cambio, teste2.direcao]\n",
        "\n",
        "print(lista_atributos1)\n",
        "print(lista_atributos2)"
      ],
      "metadata": {
        "colab": {
          "base_uri": "https://localhost:8080/"
        },
        "id": "4L9NXPh5XyTJ",
        "outputId": "f500a5d5-5b2a-473e-d038-ff3a2371056e"
      },
      "execution_count": 22,
      "outputs": [
        {
          "output_type": "stream",
          "name": "stdout",
          "text": [
            "chevrolet\n",
            "onix\n",
            "cinza\n",
            "automatico\n",
            "eletrica\n",
            "['chevrolet', 'onix', 'cinza', 'automatico', 'eletrica']\n",
            "['fiat', 'uno', 'branca', 'manual', 'hidraulica']\n"
          ]
        }
      ]
    },
    {
      "cell_type": "code",
      "source": [
        "class Pessoa:\n",
        "   def saudacao(self):\n",
        "      return f\"Olá, meu nome é {self.Pessoa}\""
      ],
      "metadata": {
        "id": "bw5oi8hmhKTp"
      },
      "execution_count": 25,
      "outputs": []
    },
    {
      "cell_type": "code",
      "source": [
        "class Carro:\n",
        "   rodas = 4\n",
        "   def __init__(self, marca, modelo):\n",
        "      self.marca = marca\n",
        "      self.modelo = modelo\n",
        "\n",
        "carro1 = Carro('Toyota', 'Corolla')\n",
        "carro2 = Carro('Honda', 'Civic')\n",
        "\n",
        "print(carro1.rodas)\n",
        "print(carro2.rodas)\n",
        "\n",
        "Carro.rodas = 6\n",
        "print(carro1.rodas)\n",
        "print(carro2.rodas)"
      ],
      "metadata": {
        "colab": {
          "base_uri": "https://localhost:8080/"
        },
        "id": "Rh-HLJK0iXv3",
        "outputId": "be8adb5c-1205-465d-c496-2acc80184ded"
      },
      "execution_count": 29,
      "outputs": [
        {
          "output_type": "stream",
          "name": "stdout",
          "text": [
            "4\n",
            "4\n",
            "6\n",
            "6\n"
          ]
        }
      ]
    },
    {
      "cell_type": "code",
      "source": [
        "class Times:\n",
        "   quantidade = 11\n",
        "   def __init__(self, nome, patrocinador, tecnico, estadio):\n",
        "       self.nome = nome\n",
        "       self.patrocinador = patrocinador\n",
        "       self.tecnico = tecnico\n",
        "       self.estadio = estadio\n",
        "\n",
        "time1 = Times('Real Madrid', 'Fly Emirates', 'Ancelloti', 'Santiago Bernabeu')\n",
        "time2 = Times('Palmeiras','Crefisa','Abel Ferreira','Alianz')\n",
        "time3 = Times('Flamengo','Banco BRB','Felipe Luiz','Maracanã')\n",
        "\n",
        "print(time1.quantidade)\n",
        "print(time1.nome, time1.patrocinador, time1.tecnico, time1.estadio)\n",
        "print(time2.quantidade)\n",
        "print(time2.nome, time2.patrocinador, time2.tecnico, time2.estadio)\n",
        "print(time3.quantidade)\n",
        "print(time3.nome, time3.patrocinador, time3.tecnico, time3.estadio)"
      ],
      "metadata": {
        "colab": {
          "base_uri": "https://localhost:8080/"
        },
        "id": "mks65CByn-Lr",
        "outputId": "8cf478b6-4041-49b6-e3fd-825ce3cab299"
      },
      "execution_count": 30,
      "outputs": [
        {
          "output_type": "stream",
          "name": "stdout",
          "text": [
            "11\n",
            "Real Madrid Fly Emirates Ancelloti Santiago Bernabeu\n",
            "11\n",
            "Palmeiras Crefisa Abel Ferreira Alianz\n",
            "11\n",
            "Flamengo Banco BRB Felipe Luiz Maracanã\n"
          ]
        }
      ]
    },
    {
      "cell_type": "code",
      "source": [
        "class Animal:\n",
        "  def __init__(self, nome):\n",
        "    self.nome = nome\n",
        "\n",
        "def mover(self):\n",
        "  return f\"{self.nome} está se movendo.\"\n",
        "\n",
        "class Cachorro(Animal):\n",
        "  def latir(self):\n",
        "    return f\"{self.nome} diz: Au Au!\"\n",
        "\n",
        "cachorro1 = Cachorro(\"Rex\")\n",
        "print(cachorro1.latir())"
      ],
      "metadata": {
        "colab": {
          "base_uri": "https://localhost:8080/"
        },
        "id": "Yz4kaO9ApZ-3",
        "outputId": "c9e3d731-2668-453e-b712-ef941518926d"
      },
      "execution_count": 37,
      "outputs": [
        {
          "output_type": "stream",
          "name": "stdout",
          "text": [
            "Rex diz: Au Au!\n"
          ]
        }
      ]
    }
  ]
}